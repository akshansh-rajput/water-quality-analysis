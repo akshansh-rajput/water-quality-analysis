{
 "cells": [
  {
   "cell_type": "code",
   "execution_count": 1,
   "id": "ae6af063-f612-40b1-8de9-4ea1db28d51f",
   "metadata": {
    "execution": {
     "iopub.execute_input": "2023-06-30T18:57:00.381289Z",
     "iopub.status.busy": "2023-06-30T18:57:00.380879Z",
     "iopub.status.idle": "2023-06-30T18:57:00.399113Z",
     "shell.execute_reply": "2023-06-30T18:57:00.397954Z"
    },
    "jupyter": {
     "source_hidden": true
    },
    "papermill": {
     "duration": 0.025291,
     "end_time": "2023-06-30T18:57:00.401141",
     "exception": false,
     "start_time": "2023-06-30T18:57:00.375850",
     "status": "completed"
    },
    "tags": []
   },
   "outputs": [],
   "source": [
    "from confluent_kafka.admin import AdminClient, NewTopic\n",
    "# from water_config.kafka_config import (KAFKA_TOPIC_NAME, KAFKA_BROKER_SERVER)"
   ]
  },
  {
   "cell_type": "code",
   "execution_count": 2,
   "id": "969e7916-a206-4958-8542-8d3c222b3f33",
   "metadata": {
    "execution": {
     "iopub.execute_input": "2023-06-30T18:57:00.406555Z",
     "iopub.status.busy": "2023-06-30T18:57:00.406244Z",
     "iopub.status.idle": "2023-06-30T18:57:00.411647Z",
     "shell.execute_reply": "2023-06-30T18:57:00.410367Z"
    },
    "jupyter": {
     "source_hidden": true
    },
    "papermill": {
     "duration": 0.011239,
     "end_time": "2023-06-30T18:57:00.414370",
     "exception": false,
     "start_time": "2023-06-30T18:57:00.403131",
     "status": "completed"
    },
    "tags": [
     "parameters"
    ]
   },
   "outputs": [],
   "source": [
    "KAFKA_BROKER_SERVER = ''\n",
    "KAFKA_TOPIC_NAME= []"
   ]
  },
  {
   "cell_type": "code",
   "execution_count": 3,
   "id": "86c006c4",
   "metadata": {
    "execution": {
     "iopub.execute_input": "2023-06-30T18:57:00.419078Z",
     "iopub.status.busy": "2023-06-30T18:57:00.418793Z",
     "iopub.status.idle": "2023-06-30T18:57:00.423409Z",
     "shell.execute_reply": "2023-06-30T18:57:00.422308Z"
    },
    "jupyter": {
     "source_hidden": true
    },
    "papermill": {
     "duration": 0.009504,
     "end_time": "2023-06-30T18:57:00.425347",
     "exception": false,
     "start_time": "2023-06-30T18:57:00.415843",
     "status": "completed"
    },
    "tags": [
     "injected-parameters"
    ]
   },
   "outputs": [],
   "source": [
    "# Parameters\n",
    "KAFKA_BROKER_SERVER = \"broker:29092\"\n",
    "KAFKA_TOPIC_NAME = [\"airflow_lt\", \"airflow_se\"]\n"
   ]
  },
  {
   "cell_type": "code",
   "execution_count": 4,
   "id": "130f9aad-026e-4080-b371-b30e9d608a35",
   "metadata": {
    "execution": {
     "iopub.execute_input": "2023-06-30T18:57:00.429914Z",
     "iopub.status.busy": "2023-06-30T18:57:00.429469Z",
     "iopub.status.idle": "2023-06-30T18:57:00.609834Z",
     "shell.execute_reply": "2023-06-30T18:57:00.608157Z"
    },
    "jupyter": {
     "source_hidden": true
    },
    "papermill": {
     "duration": 0.185343,
     "end_time": "2023-06-30T18:57:00.612108",
     "exception": false,
     "start_time": "2023-06-30T18:57:00.426765",
     "status": "completed"
    },
    "tags": []
   },
   "outputs": [
    {
     "name": "stdout",
     "output_type": "stream",
     "text": [
      "===> ['airflow_lt', 'airflow_se']\n",
      "Topic airflow_lt created\n",
      "Topic airflow_se created\n"
     ]
    }
   ],
   "source": [
    "\n",
    "admin = AdminClient({'bootstrap.servers': KAFKA_BROKER_SERVER})\n",
    "new_topics = []\n",
    "print(\"===>\",KAFKA_TOPIC_NAME)\n",
    "for name in KAFKA_TOPIC_NAME:\n",
    "    topic = NewTopic(name, num_partitions=2, replication_factor=1)\n",
    "    new_topics.append(topic)\n",
    "result = admin.create_topics(new_topics)\n",
    "for topic, f in result.items():\n",
    "    try:\n",
    "        f.result()\n",
    "        print(\"Topic {} created\".format(topic))\n",
    "    except Exception as e:\n",
    "        print(\"Failed to create topic {}: {}\".format(topic, e))"
   ]
  },
  {
   "cell_type": "code",
   "execution_count": 5,
   "id": "22a6e63d-e4d8-42c4-8ce2-e5624589307d",
   "metadata": {
    "execution": {
     "iopub.execute_input": "2023-06-30T18:57:00.617292Z",
     "iopub.status.busy": "2023-06-30T18:57:00.617014Z",
     "iopub.status.idle": "2023-06-30T18:57:00.622488Z",
     "shell.execute_reply": "2023-06-30T18:57:00.621192Z"
    },
    "jupyter": {
     "source_hidden": true
    },
    "papermill": {
     "duration": 0.011303,
     "end_time": "2023-06-30T18:57:00.625302",
     "exception": false,
     "start_time": "2023-06-30T18:57:00.613999",
     "status": "completed"
    },
    "tags": []
   },
   "outputs": [],
   "source": [
    "# def delete_topic():\n",
    "    \n",
    "#     admin = AdminClient({'bootstrap.servers': KAFKA_BROKER_SERVER})\n",
    "#     result = admin.delete_topics([KAFKA_TOPIC_NAME])\n",
    "#     for topic, f in result.items():\n",
    "#         try:\n",
    "#             f.result() \n",
    "#             print(\"Topic {} deleted\".format(topic))\n",
    "#         except Exception as e:\n",
    "#             print(\"Failed to delete topic {}: {}\".format(topic, e))"
   ]
  }
 ],
 "metadata": {
  "kernelspec": {
   "display_name": "Python 3 (ipykernel)",
   "language": "python",
   "name": "python3"
  },
  "language_info": {
   "codemirror_mode": {
    "name": "ipython",
    "version": 3
   },
   "file_extension": ".py",
   "mimetype": "text/x-python",
   "name": "python",
   "nbconvert_exporter": "python",
   "pygments_lexer": "ipython3",
   "version": "3.10.5"
  },
  "papermill": {
   "default_parameters": {},
   "duration": 2.463342,
   "end_time": "2023-06-30T18:57:00.849066",
   "environment_variables": {},
   "exception": null,
   "input_path": "dags/deployment/kafka_manager.ipynb",
   "output_path": "dags/deployment/output/kafka_manager.ipynb",
   "parameters": {
    "KAFKA_BROKER_SERVER": "broker:29092",
    "KAFKA_TOPIC_NAME": [
     "airflow_lt",
     "airflow_se"
    ]
   },
   "start_time": "2023-06-30T18:56:58.385724",
   "version": "2.4.0"
  }
 },
 "nbformat": 4,
 "nbformat_minor": 5
}
