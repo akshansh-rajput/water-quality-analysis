{
 "cells": [
  {
   "cell_type": "code",
   "execution_count": 1,
   "id": "ae6af063-f612-40b1-8de9-4ea1db28d51f",
   "metadata": {
    "execution": {
     "iopub.execute_input": "2023-06-30T05:40:57.526184Z",
     "iopub.status.busy": "2023-06-30T05:40:57.525437Z",
     "iopub.status.idle": "2023-06-30T05:40:57.595371Z",
     "shell.execute_reply": "2023-06-30T05:40:57.592443Z"
    },
    "jupyter": {
     "source_hidden": true
    },
    "papermill": {
     "duration": 0.093457,
     "end_time": "2023-06-30T05:40:57.602521",
     "exception": false,
     "start_time": "2023-06-30T05:40:57.509064",
     "status": "completed"
    },
    "tags": []
   },
   "outputs": [],
   "source": [
    "from confluent_kafka.admin import AdminClient, NewTopic\n",
    "# from water_config.kafka_config import (KAFKA_TOPIC_NAME, KAFKA_BROKER_SERVER)"
   ]
  },
  {
   "cell_type": "code",
   "execution_count": 2,
   "id": "969e7916-a206-4958-8542-8d3c222b3f33",
   "metadata": {
    "execution": {
     "iopub.execute_input": "2023-06-30T05:40:57.613590Z",
     "iopub.status.busy": "2023-06-30T05:40:57.613228Z",
     "iopub.status.idle": "2023-06-30T05:40:57.620482Z",
     "shell.execute_reply": "2023-06-30T05:40:57.618769Z"
    },
    "jupyter": {
     "source_hidden": true
    },
    "papermill": {
     "duration": 0.014604,
     "end_time": "2023-06-30T05:40:57.623339",
     "exception": false,
     "start_time": "2023-06-30T05:40:57.608735",
     "status": "completed"
    },
    "tags": [
     "parameters"
    ]
   },
   "outputs": [],
   "source": [
    "KAFKA_BROKER_SERVER = ''\n",
    "KAFKA_TOPIC_NAME= ''"
   ]
  },
  {
   "cell_type": "code",
   "execution_count": 3,
   "id": "f7840573",
   "metadata": {
    "execution": {
     "iopub.execute_input": "2023-06-30T05:40:57.630004Z",
     "iopub.status.busy": "2023-06-30T05:40:57.628990Z",
     "iopub.status.idle": "2023-06-30T05:40:57.637203Z",
     "shell.execute_reply": "2023-06-30T05:40:57.634741Z"
    },
    "jupyter": {
     "source_hidden": true
    },
    "papermill": {
     "duration": 0.015739,
     "end_time": "2023-06-30T05:40:57.641036",
     "exception": false,
     "start_time": "2023-06-30T05:40:57.625297",
     "status": "completed"
    },
    "tags": [
     "injected-parameters"
    ]
   },
   "outputs": [],
   "source": [
    "# Parameters\n",
    "KAFKA_BROKER_SERVER = \"broker:29092\"\n",
    "KAFKA_TOPIC_NAME = \"test_air\"\n"
   ]
  },
  {
   "cell_type": "code",
   "execution_count": 4,
   "id": "130f9aad-026e-4080-b371-b30e9d608a35",
   "metadata": {
    "execution": {
     "iopub.execute_input": "2023-06-30T05:40:57.649690Z",
     "iopub.status.busy": "2023-06-30T05:40:57.649283Z",
     "iopub.status.idle": "2023-06-30T05:40:57.731587Z",
     "shell.execute_reply": "2023-06-30T05:40:57.728252Z"
    },
    "jupyter": {
     "source_hidden": true
    },
    "papermill": {
     "duration": 0.09225,
     "end_time": "2023-06-30T05:40:57.736572",
     "exception": false,
     "start_time": "2023-06-30T05:40:57.644322",
     "status": "completed"
    },
    "tags": []
   },
   "outputs": [
    {
     "name": "stdout",
     "output_type": "stream",
     "text": [
      "Failed to create topic test_air: KafkaError{code=TOPIC_ALREADY_EXISTS,val=36,str=\"Topic 'test_air' already exists.\"}\n"
     ]
    }
   ],
   "source": [
    "\n",
    "admin = AdminClient({'bootstrap.servers': KAFKA_BROKER_SERVER})\n",
    "topic = NewTopic(KAFKA_TOPIC_NAME, num_partitions=2, replication_factor=1)\n",
    "new_topics = [topic]\n",
    "result = admin.create_topics(new_topics)\n",
    "for topic, f in result.items():\n",
    "    try:\n",
    "        f.result()\n",
    "        print(\"Topic {} created\".format(topic))\n",
    "    except Exception as e:\n",
    "        print(\"Failed to create topic {}: {}\".format(topic, e))"
   ]
  },
  {
   "cell_type": "code",
   "execution_count": 5,
   "id": "22a6e63d-e4d8-42c4-8ce2-e5624589307d",
   "metadata": {
    "execution": {
     "iopub.execute_input": "2023-06-30T05:40:57.744249Z",
     "iopub.status.busy": "2023-06-30T05:40:57.742465Z",
     "iopub.status.idle": "2023-06-30T05:40:57.754801Z",
     "shell.execute_reply": "2023-06-30T05:40:57.751962Z"
    },
    "jupyter": {
     "source_hidden": true
    },
    "papermill": {
     "duration": 0.022213,
     "end_time": "2023-06-30T05:40:57.760831",
     "exception": false,
     "start_time": "2023-06-30T05:40:57.738618",
     "status": "completed"
    },
    "tags": []
   },
   "outputs": [],
   "source": [
    "# def delete_topic():\n",
    "    \n",
    "#     admin = AdminClient({'bootstrap.servers': KAFKA_BROKER_SERVER})\n",
    "#     result = admin.delete_topics([KAFKA_TOPIC_NAME])\n",
    "#     for topic, f in result.items():\n",
    "#         try:\n",
    "#             f.result() \n",
    "#             print(\"Topic {} deleted\".format(topic))\n",
    "#         except Exception as e:\n",
    "#             print(\"Failed to delete topic {}: {}\".format(topic, e))"
   ]
  }
 ],
 "metadata": {
  "kernelspec": {
   "display_name": "Python 3 (ipykernel)",
   "language": "python",
   "name": "python3"
  },
  "language_info": {
   "codemirror_mode": {
    "name": "ipython",
    "version": 3
   },
   "file_extension": ".py",
   "mimetype": "text/x-python",
   "name": "python",
   "nbconvert_exporter": "python",
   "pygments_lexer": "ipython3",
   "version": "3.10.8"
  },
  "papermill": {
   "default_parameters": {},
   "duration": 3.937323,
   "end_time": "2023-06-30T05:40:58.091259",
   "environment_variables": {},
   "exception": null,
   "input_path": "dags/deployment/kafka_manager.ipynb",
   "output_path": "dags/deployment/output/kafka_manager.ipynb",
   "parameters": {
    "KAFKA_BROKER_SERVER": "broker:29092",
    "KAFKA_TOPIC_NAME": "test_air"
   },
   "start_time": "2023-06-30T05:40:54.153936",
   "version": "2.4.0"
  }
 },
 "nbformat": 4,
 "nbformat_minor": 5
}