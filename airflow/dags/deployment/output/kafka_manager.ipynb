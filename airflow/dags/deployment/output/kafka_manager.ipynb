{
 "cells": [
  {
   "cell_type": "code",
   "execution_count": 1,
   "id": "ae6af063-f612-40b1-8de9-4ea1db28d51f",
   "metadata": {
    "execution": {
     "iopub.execute_input": "2023-06-29T17:15:17.770426Z",
     "iopub.status.busy": "2023-06-29T17:15:17.769616Z",
     "iopub.status.idle": "2023-06-29T17:15:17.789967Z",
     "shell.execute_reply": "2023-06-29T17:15:17.788359Z"
    },
    "jupyter": {
     "source_hidden": true
    },
    "papermill": {
     "duration": 0.03109,
     "end_time": "2023-06-29T17:15:17.792159",
     "exception": false,
     "start_time": "2023-06-29T17:15:17.761069",
     "status": "completed"
    },
    "tags": []
   },
   "outputs": [],
   "source": [
    "from confluent_kafka.admin import AdminClient, NewTopic\n",
    "# from water_config.kafka_config import (KAFKA_TOPIC_NAME, KAFKA_BROKER_SERVER)"
   ]
  },
  {
   "cell_type": "code",
   "execution_count": 2,
   "id": "969e7916-a206-4958-8542-8d3c222b3f33",
   "metadata": {
    "execution": {
     "iopub.execute_input": "2023-06-29T17:15:17.799246Z",
     "iopub.status.busy": "2023-06-29T17:15:17.798975Z",
     "iopub.status.idle": "2023-06-29T17:15:17.803541Z",
     "shell.execute_reply": "2023-06-29T17:15:17.802479Z"
    },
    "jupyter": {
     "source_hidden": true
    },
    "papermill": {
     "duration": 0.008965,
     "end_time": "2023-06-29T17:15:17.805209",
     "exception": false,
     "start_time": "2023-06-29T17:15:17.796244",
     "status": "completed"
    },
    "tags": [
     "parameters"
    ]
   },
   "outputs": [],
   "source": [
    "KAFKA_BROKER_SERVER = ''\n",
    "KAFKA_TOPIC_NAME= ''"
   ]
  },
  {
   "cell_type": "code",
   "execution_count": 3,
   "id": "7ab98c10",
   "metadata": {
    "execution": {
     "iopub.execute_input": "2023-06-29T17:15:17.810022Z",
     "iopub.status.busy": "2023-06-29T17:15:17.809746Z",
     "iopub.status.idle": "2023-06-29T17:15:17.814900Z",
     "shell.execute_reply": "2023-06-29T17:15:17.813743Z"
    },
    "jupyter": {
     "source_hidden": true
    },
    "papermill": {
     "duration": 0.010037,
     "end_time": "2023-06-29T17:15:17.816790",
     "exception": false,
     "start_time": "2023-06-29T17:15:17.806753",
     "status": "completed"
    },
    "tags": [
     "injected-parameters"
    ]
   },
   "outputs": [],
   "source": [
    "# Parameters\n",
    "KAFKA_BROKER_SERVER = \"broker:29092\"\n",
    "KAFKA_TOPIC_NAME = \"test_air\"\n"
   ]
  },
  {
   "cell_type": "code",
   "execution_count": 4,
   "id": "130f9aad-026e-4080-b371-b30e9d608a35",
   "metadata": {
    "execution": {
     "iopub.execute_input": "2023-06-29T17:15:17.820877Z",
     "iopub.status.busy": "2023-06-29T17:15:17.820602Z",
     "iopub.status.idle": "2023-06-29T17:15:18.140840Z",
     "shell.execute_reply": "2023-06-29T17:15:18.139850Z"
    },
    "jupyter": {
     "source_hidden": true
    },
    "papermill": {
     "duration": 0.32478,
     "end_time": "2023-06-29T17:15:18.143014",
     "exception": false,
     "start_time": "2023-06-29T17:15:17.818234",
     "status": "completed"
    },
    "tags": []
   },
   "outputs": [
    {
     "name": "stdout",
     "output_type": "stream",
     "text": [
      "Topic test_air created\n"
     ]
    }
   ],
   "source": [
    "\n",
    "admin = AdminClient({'bootstrap.servers': KAFKA_BROKER_SERVER})\n",
    "topic = NewTopic(KAFKA_TOPIC_NAME, num_partitions=2, replication_factor=1)\n",
    "new_topics = [topic]\n",
    "result = admin.create_topics(new_topics)\n",
    "for topic, f in result.items():\n",
    "    try:\n",
    "        f.result()\n",
    "        print(\"Topic {} created\".format(topic))\n",
    "    except Exception as e:\n",
    "        print(\"Failed to create topic {}: {}\".format(topic, e))"
   ]
  },
  {
   "cell_type": "code",
   "execution_count": 5,
   "id": "22a6e63d-e4d8-42c4-8ce2-e5624589307d",
   "metadata": {
    "execution": {
     "iopub.execute_input": "2023-06-29T17:15:18.149726Z",
     "iopub.status.busy": "2023-06-29T17:15:18.148904Z",
     "iopub.status.idle": "2023-06-29T17:15:18.153338Z",
     "shell.execute_reply": "2023-06-29T17:15:18.152516Z"
    },
    "jupyter": {
     "source_hidden": true
    },
    "papermill": {
     "duration": 0.009511,
     "end_time": "2023-06-29T17:15:18.154785",
     "exception": false,
     "start_time": "2023-06-29T17:15:18.145274",
     "status": "completed"
    },
    "tags": []
   },
   "outputs": [],
   "source": [
    "# def delete_topic():\n",
    "    \n",
    "#     admin = AdminClient({'bootstrap.servers': KAFKA_BROKER_SERVER})\n",
    "#     result = admin.delete_topics([KAFKA_TOPIC_NAME])\n",
    "#     for topic, f in result.items():\n",
    "#         try:\n",
    "#             f.result() \n",
    "#             print(\"Topic {} deleted\".format(topic))\n",
    "#         except Exception as e:\n",
    "#             print(\"Failed to delete topic {}: {}\".format(topic, e))"
   ]
  }
 ],
 "metadata": {
  "kernelspec": {
   "display_name": "Python 3 (ipykernel)",
   "language": "python",
   "name": "python3"
  },
  "language_info": {
   "codemirror_mode": {
    "name": "ipython",
    "version": 3
   },
   "file_extension": ".py",
   "mimetype": "text/x-python",
   "name": "python",
   "nbconvert_exporter": "python",
   "pygments_lexer": "ipython3",
   "version": "3.10.8"
  },
  "papermill": {
   "default_parameters": {},
   "duration": 2.572566,
   "end_time": "2023-06-29T17:15:18.474838",
   "environment_variables": {},
   "exception": null,
   "input_path": "dags/deployment/kafka_manager.ipynb",
   "output_path": "dags/deployment/output/kafka_manager.ipynb",
   "parameters": {
    "KAFKA_BROKER_SERVER": "broker:29092",
    "KAFKA_TOPIC_NAME": "test_air"
   },
   "start_time": "2023-06-29T17:15:15.902272",
   "version": "2.4.0"
  }
 },
 "nbformat": 4,
 "nbformat_minor": 5
}