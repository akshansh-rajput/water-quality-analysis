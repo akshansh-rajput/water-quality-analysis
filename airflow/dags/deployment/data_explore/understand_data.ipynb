{
 "cells": [
  {
   "cell_type": "code",
   "execution_count": 1,
   "id": "a9ffbe3c-3b43-485c-80ce-a0a330a7ac4f",
   "metadata": {},
   "outputs": [],
   "source": [
    "from pyspark.sql import SparkSession"
   ]
  },
  {
   "cell_type": "code",
   "execution_count": 2,
   "id": "56b852bf-155a-47be-9306-69b1c8d46476",
   "metadata": {},
   "outputs": [],
   "source": [
    "spark = SparkSession.builder.appName(\"test_data_explore\").master(\"local[*]\").getOrCreate()"
   ]
  },
  {
   "cell_type": "code",
   "execution_count": 3,
   "id": "95832d92-093f-455e-9bc4-298efd40c6d4",
   "metadata": {},
   "outputs": [],
   "source": [
    "import os"
   ]
  },
  {
   "cell_type": "code",
   "execution_count": 12,
   "id": "dfba1972-6a08-4066-8a39-f89d238bb48f",
   "metadata": {},
   "outputs": [],
   "source": [
    "df = spark.read.format('csv').option(\"header\",\"true\").load('/home/jovyan/data/')"
   ]
  },
  {
   "cell_type": "code",
   "execution_count": 13,
   "id": "8288a5fa-f850-4e50-a4e2-7ed13408669e",
   "metadata": {},
   "outputs": [
    {
     "name": "stdout",
     "output_type": "stream",
     "text": [
      "root\n",
      " |-- monitoringSiteIdentifier: string (nullable = true)\n",
      " |-- monitoringSiteIdentifierScheme: string (nullable = true)\n",
      " |-- parameterWaterBodyCategory: string (nullable = true)\n",
      " |-- observedPropertyDeterminandCode: string (nullable = true)\n",
      " |-- observedPropertyDeterminandLabel: string (nullable = true)\n",
      " |-- procedureAnalysedMatrix: string (nullable = true)\n",
      " |-- resultUom: string (nullable = true)\n",
      " |-- phenomenonTimeSamplingDate: string (nullable = true)\n",
      " |-- sampleIdentifier: string (nullable = true)\n",
      " |-- resultObservedValue: string (nullable = true)\n",
      " |-- resultQualityObservedValueBelowLOQ: string (nullable = true)\n",
      " |-- procedureLOQValue: string (nullable = true)\n",
      " |-- parameterSampleDepth: string (nullable = true)\n",
      " |-- parameterSedimentDepthSampled: string (nullable = true)\n",
      " |-- parameterSpecies: string (nullable = true)\n",
      " |-- resultMoisture: string (nullable = true)\n",
      " |-- resultFat: string (nullable = true)\n",
      " |-- resultExtractableLipid: string (nullable = true)\n",
      " |-- resultLipid: string (nullable = true)\n",
      " |-- resultObservationStatus: string (nullable = true)\n",
      " |-- Remarks: string (nullable = true)\n",
      " |-- metadata_versionId: string (nullable = true)\n",
      " |-- metadata_beginLifeSpanVersion: string (nullable = true)\n",
      " |-- metadata_statusCode: string (nullable = true)\n",
      " |-- metadata_observationStatus: string (nullable = true)\n",
      " |-- metadata_statements: string (nullable = true)\n",
      " |-- UID: string (nullable = true)\n",
      "\n"
     ]
    }
   ],
   "source": [
    "df.printSchema()"
   ]
  },
  {
   "cell_type": "code",
   "execution_count": 18,
   "id": "0cbb8997-aeb4-4a13-a091-1a370c2aca16",
   "metadata": {},
   "outputs": [
    {
     "name": "stdout",
     "output_type": "stream",
     "text": [
      "-RECORD 0--------------------------------------------------\n",
      " monitoringSiteIdentifier           | DK174-217-02         \n",
      " monitoringSiteIdentifierScheme     | eionetMonitoringS... \n",
      " parameterWaterBodyCategory         | GW                   \n",
      " observedPropertyDeterminandCode    | CAS_14797-65-0       \n",
      " observedPropertyDeterminandLabel   | Nitrite              \n",
      " procedureAnalysedMatrix            | W                    \n",
      " resultUom                          | mg{NO2}/L            \n",
      " phenomenonTimeSamplingDate         | 20060821             \n",
      " sampleIdentifier                   | NA                   \n",
      " resultObservedValue                | 0.0005               \n",
      " resultQualityObservedValueBelowLOQ | 1                    \n",
      " procedureLOQValue                  | 0.0005               \n",
      " parameterSampleDepth               | null                 \n",
      " parameterSedimentDepthSampled      | null                 \n",
      " parameterSpecies                   | null                 \n",
      " resultMoisture                     | null                 \n",
      " resultFat                          | null                 \n",
      " resultExtractableLipid             | null                 \n",
      " resultLipid                        | null                 \n",
      " resultObservationStatus            | null                 \n",
      " Remarks                            | null                 \n",
      " metadata_versionId                 | http://discomap.e... \n",
      " metadata_beginLifeSpanVersion      | 2015-11-30 00:00:... \n",
      " metadata_statusCode                | experimental         \n",
      " metadata_observationStatus         | A                    \n",
      " metadata_statements                | null                 \n",
      " UID                                | 2353398              \n",
      "-RECORD 1--------------------------------------------------\n",
      " monitoringSiteIdentifier           | DK174-217-02         \n",
      " monitoringSiteIdentifierScheme     | eionetMonitoringS... \n",
      " parameterWaterBodyCategory         | GW                   \n",
      " observedPropertyDeterminandCode    | CAS_14798-03-9       \n",
      " observedPropertyDeterminandLabel   | Ammonium             \n",
      " procedureAnalysedMatrix            | W                    \n",
      " resultUom                          | mg{NH4}/L            \n",
      " phenomenonTimeSamplingDate         | 20030826             \n",
      " sampleIdentifier                   | NA                   \n",
      " resultObservedValue                | 0.057                \n",
      " resultQualityObservedValueBelowLOQ | 0                    \n",
      " procedureLOQValue                  | null                 \n",
      " parameterSampleDepth               | null                 \n",
      " parameterSedimentDepthSampled      | null                 \n",
      " parameterSpecies                   | null                 \n",
      " resultMoisture                     | null                 \n",
      " resultFat                          | null                 \n",
      " resultExtractableLipid             | null                 \n",
      " resultLipid                        | null                 \n",
      " resultObservationStatus            | null                 \n",
      " Remarks                            | null                 \n",
      " metadata_versionId                 | http://discomap.e... \n",
      " metadata_beginLifeSpanVersion      | 2015-11-30 00:00:... \n",
      " metadata_statusCode                | experimental         \n",
      " metadata_observationStatus         | A                    \n",
      " metadata_statements                | null                 \n",
      " UID                                | 2353399              \n",
      "-RECORD 2--------------------------------------------------\n",
      " monitoringSiteIdentifier           | DK174-217-02         \n",
      " monitoringSiteIdentifierScheme     | eionetMonitoringS... \n",
      " parameterWaterBodyCategory         | GW                   \n",
      " observedPropertyDeterminandCode    | CAS_14798-03-9       \n",
      " observedPropertyDeterminandLabel   | Ammonium             \n",
      " procedureAnalysedMatrix            | W                    \n",
      " resultUom                          | mg{NH4}/L            \n",
      " phenomenonTimeSamplingDate         | 20050919             \n",
      " sampleIdentifier                   | NA                   \n",
      " resultObservedValue                | 0.058                \n",
      " resultQualityObservedValueBelowLOQ | 0                    \n",
      " procedureLOQValue                  | null                 \n",
      " parameterSampleDepth               | null                 \n",
      " parameterSedimentDepthSampled      | null                 \n",
      " parameterSpecies                   | null                 \n",
      " resultMoisture                     | null                 \n",
      " resultFat                          | null                 \n",
      " resultExtractableLipid             | null                 \n",
      " resultLipid                        | null                 \n",
      " resultObservationStatus            | null                 \n",
      " Remarks                            | null                 \n",
      " metadata_versionId                 | http://discomap.e... \n",
      " metadata_beginLifeSpanVersion      | 2015-11-30 00:00:... \n",
      " metadata_statusCode                | experimental         \n",
      " metadata_observationStatus         | A                    \n",
      " metadata_statements                | null                 \n",
      " UID                                | 2353400              \n",
      "only showing top 3 rows\n",
      "\n"
     ]
    }
   ],
   "source": [
    "df.show(3,True, True)"
   ]
  },
  {
   "cell_type": "code",
   "execution_count": null,
   "id": "2d7ce14a-bd24-4ec9-b267-25702ba63041",
   "metadata": {},
   "outputs": [],
   "source": []
  }
 ],
 "metadata": {
  "kernelspec": {
   "display_name": "Python 3 (ipykernel)",
   "language": "python",
   "name": "python3"
  },
  "language_info": {
   "codemirror_mode": {
    "name": "ipython",
    "version": 3
   },
   "file_extension": ".py",
   "mimetype": "text/x-python",
   "name": "python",
   "nbconvert_exporter": "python",
   "pygments_lexer": "ipython3",
   "version": "3.10.5"
  }
 },
 "nbformat": 4,
 "nbformat_minor": 5
}
