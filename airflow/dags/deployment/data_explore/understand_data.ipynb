{
 "cells": [
  {
   "cell_type": "code",
   "execution_count": 1,
   "id": "a9ffbe3c-3b43-485c-80ce-a0a330a7ac4f",
   "metadata": {},
   "outputs": [],
   "source": [
    "from pyspark.sql import SparkSession\n",
    "import os"
   ]
  },
  {
   "cell_type": "code",
   "execution_count": 2,
   "id": "56b852bf-155a-47be-9306-69b1c8d46476",
   "metadata": {},
   "outputs": [],
   "source": [
    "os.environ['PYSPARK_SUBMIT_ARGS'] = '--packages org.apache.spark:spark-sql-kafka-0-10_2.12:3.0.0,io.delta:delta-core_2.12:2.0.1 pyspark-shell'\n",
    "spark = SparkSession \\\n",
    "            .builder \\\n",
    "            .appName(\"water_test\") \\\n",
    "            .config(\"spark.sql.extensions\",\"io.delta.sql.DeltaSparkSessionExtension\") \\\n",
    "            .config(\"spark.sql.catalog.spark_catalog\",\"org.apache.spark.sql.delta.catalog.DeltaCatalog\") \\\n",
    "            .master(\"local[*]\") \\\n",
    "            .getOrCreate()"
   ]
  },
  {
   "cell_type": "markdown",
   "id": "5610b0fd-89b3-408a-8d94-31f4a0a18378",
   "metadata": {
    "tags": []
   },
   "source": [
    "# Read and Check Schema and Some records"
   ]
  },
  {
   "cell_type": "code",
   "execution_count": 6,
   "id": "dfba1972-6a08-4066-8a39-f89d238bb48f",
   "metadata": {},
   "outputs": [],
   "source": [
    "df = spark.read.format('csv').option(\"header\",\"true\").load('/home/jovyan/dags/input/data/Waterbase_v2021_1_T_WISE6_DisaggregatedData.csv')"
   ]
  },
  {
   "cell_type": "code",
   "execution_count": 12,
   "id": "8288a5fa-f850-4e50-a4e2-7ed13408669e",
   "metadata": {},
   "outputs": [
    {
     "name": "stdout",
     "output_type": "stream",
     "text": [
      "root\n",
      " |-- monitoringSiteIdentifier: string (nullable = true)\n",
      " |-- monitoringSiteIdentifierScheme: string (nullable = true)\n",
      " |-- parameterWaterBodyCategory: string (nullable = true)\n",
      " |-- observedPropertyDeterminandCode: string (nullable = true)\n",
      " |-- observedPropertyDeterminandLabel: string (nullable = true)\n",
      " |-- procedureAnalysedMatrix: string (nullable = true)\n",
      " |-- resultUom: string (nullable = true)\n",
      " |-- phenomenonTimeSamplingDate: string (nullable = true)\n",
      " |-- sampleIdentifier: string (nullable = true)\n",
      " |-- resultObservedValue: string (nullable = true)\n",
      " |-- resultQualityObservedValueBelowLOQ: string (nullable = true)\n",
      " |-- procedureLOQValue: string (nullable = true)\n",
      " |-- parameterSampleDepth: string (nullable = true)\n",
      " |-- parameterSedimentDepthSampled: string (nullable = true)\n",
      " |-- parameterSpecies: string (nullable = true)\n",
      " |-- resultMoisture: string (nullable = true)\n",
      " |-- resultFat: string (nullable = true)\n",
      " |-- resultExtractableLipid: string (nullable = true)\n",
      " |-- resultLipid: string (nullable = true)\n",
      " |-- resultObservationStatus: string (nullable = true)\n",
      " |-- Remarks: string (nullable = true)\n",
      " |-- metadata_versionId: string (nullable = true)\n",
      " |-- metadata_beginLifeSpanVersion: string (nullable = true)\n",
      " |-- metadata_statusCode: string (nullable = true)\n",
      " |-- metadata_observationStatus: string (nullable = true)\n",
      " |-- metadata_statements: string (nullable = true)\n",
      " |-- UID: string (nullable = true)\n",
      "\n"
     ]
    }
   ],
   "source": [
    "df.printSchema()"
   ]
  },
  {
   "cell_type": "code",
   "execution_count": 21,
   "id": "0cbb8997-aeb4-4a13-a091-1a370c2aca16",
   "metadata": {},
   "outputs": [
    {
     "name": "stderr",
     "output_type": "stream",
     "text": [
      "ERROR:root:KeyboardInterrupt while sending command.\n",
      "Traceback (most recent call last):\n",
      "  File \"/usr/local/spark/python/lib/py4j-0.10.9.3-src.zip/py4j/java_gateway.py\", line 1038, in send_command\n",
      "    response = connection.send_command(command)\n",
      "  File \"/usr/local/spark/python/lib/py4j-0.10.9.3-src.zip/py4j/clientserver.py\", line 475, in send_command\n",
      "    answer = smart_decode(self.stream.readline()[:-1])\n",
      "  File \"/opt/conda/lib/python3.10/socket.py\", line 705, in readinto\n",
      "    return self._sock.recv_into(b)\n",
      "KeyboardInterrupt\n"
     ]
    },
    {
     "ename": "KeyboardInterrupt",
     "evalue": "",
     "output_type": "error",
     "traceback": [
      "\u001b[0;31m---------------------------------------------------------------------------\u001b[0m",
      "\u001b[0;31mKeyboardInterrupt\u001b[0m                         Traceback (most recent call last)",
      "Input \u001b[0;32mIn [21]\u001b[0m, in \u001b[0;36m<cell line: 1>\u001b[0;34m()\u001b[0m\n\u001b[0;32m----> 1\u001b[0m \u001b[43mdf\u001b[49m\u001b[38;5;241;43m.\u001b[39;49m\u001b[43mdescribe\u001b[49m\u001b[43m(\u001b[49m\u001b[43m)\u001b[49m\n",
      "File \u001b[0;32m/usr/local/spark/python/pyspark/sql/dataframe.py:1507\u001b[0m, in \u001b[0;36mDataFrame.describe\u001b[0;34m(self, *cols)\u001b[0m\n\u001b[1;32m   1505\u001b[0m \u001b[38;5;28;01mif\u001b[39;00m \u001b[38;5;28mlen\u001b[39m(cols) \u001b[38;5;241m==\u001b[39m \u001b[38;5;241m1\u001b[39m \u001b[38;5;129;01mand\u001b[39;00m \u001b[38;5;28misinstance\u001b[39m(cols[\u001b[38;5;241m0\u001b[39m], \u001b[38;5;28mlist\u001b[39m):\n\u001b[1;32m   1506\u001b[0m     cols \u001b[38;5;241m=\u001b[39m cols[\u001b[38;5;241m0\u001b[39m]\n\u001b[0;32m-> 1507\u001b[0m jdf \u001b[38;5;241m=\u001b[39m \u001b[38;5;28;43mself\u001b[39;49m\u001b[38;5;241;43m.\u001b[39;49m\u001b[43m_jdf\u001b[49m\u001b[38;5;241;43m.\u001b[39;49m\u001b[43mdescribe\u001b[49m\u001b[43m(\u001b[49m\u001b[38;5;28;43mself\u001b[39;49m\u001b[38;5;241;43m.\u001b[39;49m\u001b[43m_jseq\u001b[49m\u001b[43m(\u001b[49m\u001b[43mcols\u001b[49m\u001b[43m)\u001b[49m\u001b[43m)\u001b[49m\n\u001b[1;32m   1508\u001b[0m \u001b[38;5;28;01mreturn\u001b[39;00m DataFrame(jdf, \u001b[38;5;28mself\u001b[39m\u001b[38;5;241m.\u001b[39msql_ctx)\n",
      "File \u001b[0;32m/usr/local/spark/python/lib/py4j-0.10.9.3-src.zip/py4j/java_gateway.py:1320\u001b[0m, in \u001b[0;36mJavaMember.__call__\u001b[0;34m(self, *args)\u001b[0m\n\u001b[1;32m   1313\u001b[0m args_command, temp_args \u001b[38;5;241m=\u001b[39m \u001b[38;5;28mself\u001b[39m\u001b[38;5;241m.\u001b[39m_build_args(\u001b[38;5;241m*\u001b[39margs)\n\u001b[1;32m   1315\u001b[0m command \u001b[38;5;241m=\u001b[39m proto\u001b[38;5;241m.\u001b[39mCALL_COMMAND_NAME \u001b[38;5;241m+\u001b[39m\\\n\u001b[1;32m   1316\u001b[0m     \u001b[38;5;28mself\u001b[39m\u001b[38;5;241m.\u001b[39mcommand_header \u001b[38;5;241m+\u001b[39m\\\n\u001b[1;32m   1317\u001b[0m     args_command \u001b[38;5;241m+\u001b[39m\\\n\u001b[1;32m   1318\u001b[0m     proto\u001b[38;5;241m.\u001b[39mEND_COMMAND_PART\n\u001b[0;32m-> 1320\u001b[0m answer \u001b[38;5;241m=\u001b[39m \u001b[38;5;28;43mself\u001b[39;49m\u001b[38;5;241;43m.\u001b[39;49m\u001b[43mgateway_client\u001b[49m\u001b[38;5;241;43m.\u001b[39;49m\u001b[43msend_command\u001b[49m\u001b[43m(\u001b[49m\u001b[43mcommand\u001b[49m\u001b[43m)\u001b[49m\n\u001b[1;32m   1321\u001b[0m return_value \u001b[38;5;241m=\u001b[39m get_return_value(\n\u001b[1;32m   1322\u001b[0m     answer, \u001b[38;5;28mself\u001b[39m\u001b[38;5;241m.\u001b[39mgateway_client, \u001b[38;5;28mself\u001b[39m\u001b[38;5;241m.\u001b[39mtarget_id, \u001b[38;5;28mself\u001b[39m\u001b[38;5;241m.\u001b[39mname)\n\u001b[1;32m   1324\u001b[0m \u001b[38;5;28;01mfor\u001b[39;00m temp_arg \u001b[38;5;129;01min\u001b[39;00m temp_args:\n",
      "File \u001b[0;32m/usr/local/spark/python/lib/py4j-0.10.9.3-src.zip/py4j/java_gateway.py:1038\u001b[0m, in \u001b[0;36mGatewayClient.send_command\u001b[0;34m(self, command, retry, binary)\u001b[0m\n\u001b[1;32m   1036\u001b[0m connection \u001b[38;5;241m=\u001b[39m \u001b[38;5;28mself\u001b[39m\u001b[38;5;241m.\u001b[39m_get_connection()\n\u001b[1;32m   1037\u001b[0m \u001b[38;5;28;01mtry\u001b[39;00m:\n\u001b[0;32m-> 1038\u001b[0m     response \u001b[38;5;241m=\u001b[39m \u001b[43mconnection\u001b[49m\u001b[38;5;241;43m.\u001b[39;49m\u001b[43msend_command\u001b[49m\u001b[43m(\u001b[49m\u001b[43mcommand\u001b[49m\u001b[43m)\u001b[49m\n\u001b[1;32m   1039\u001b[0m     \u001b[38;5;28;01mif\u001b[39;00m binary:\n\u001b[1;32m   1040\u001b[0m         \u001b[38;5;28;01mreturn\u001b[39;00m response, \u001b[38;5;28mself\u001b[39m\u001b[38;5;241m.\u001b[39m_create_connection_guard(connection)\n",
      "File \u001b[0;32m/usr/local/spark/python/lib/py4j-0.10.9.3-src.zip/py4j/clientserver.py:475\u001b[0m, in \u001b[0;36mClientServerConnection.send_command\u001b[0;34m(self, command)\u001b[0m\n\u001b[1;32m    473\u001b[0m \u001b[38;5;28;01mtry\u001b[39;00m:\n\u001b[1;32m    474\u001b[0m     \u001b[38;5;28;01mwhile\u001b[39;00m \u001b[38;5;28;01mTrue\u001b[39;00m:\n\u001b[0;32m--> 475\u001b[0m         answer \u001b[38;5;241m=\u001b[39m smart_decode(\u001b[38;5;28;43mself\u001b[39;49m\u001b[38;5;241;43m.\u001b[39;49m\u001b[43mstream\u001b[49m\u001b[38;5;241;43m.\u001b[39;49m\u001b[43mreadline\u001b[49m\u001b[43m(\u001b[49m\u001b[43m)\u001b[49m[:\u001b[38;5;241m-\u001b[39m\u001b[38;5;241m1\u001b[39m])\n\u001b[1;32m    476\u001b[0m         logger\u001b[38;5;241m.\u001b[39mdebug(\u001b[38;5;124m\"\u001b[39m\u001b[38;5;124mAnswer received: \u001b[39m\u001b[38;5;132;01m{0}\u001b[39;00m\u001b[38;5;124m\"\u001b[39m\u001b[38;5;241m.\u001b[39mformat(answer))\n\u001b[1;32m    477\u001b[0m         \u001b[38;5;66;03m# Happens when a the other end is dead. There might be an empty\u001b[39;00m\n\u001b[1;32m    478\u001b[0m         \u001b[38;5;66;03m# answer before the socket raises an error.\u001b[39;00m\n",
      "File \u001b[0;32m/opt/conda/lib/python3.10/socket.py:705\u001b[0m, in \u001b[0;36mSocketIO.readinto\u001b[0;34m(self, b)\u001b[0m\n\u001b[1;32m    703\u001b[0m \u001b[38;5;28;01mwhile\u001b[39;00m \u001b[38;5;28;01mTrue\u001b[39;00m:\n\u001b[1;32m    704\u001b[0m     \u001b[38;5;28;01mtry\u001b[39;00m:\n\u001b[0;32m--> 705\u001b[0m         \u001b[38;5;28;01mreturn\u001b[39;00m \u001b[38;5;28;43mself\u001b[39;49m\u001b[38;5;241;43m.\u001b[39;49m\u001b[43m_sock\u001b[49m\u001b[38;5;241;43m.\u001b[39;49m\u001b[43mrecv_into\u001b[49m\u001b[43m(\u001b[49m\u001b[43mb\u001b[49m\u001b[43m)\u001b[49m\n\u001b[1;32m    706\u001b[0m     \u001b[38;5;28;01mexcept\u001b[39;00m timeout:\n\u001b[1;32m    707\u001b[0m         \u001b[38;5;28mself\u001b[39m\u001b[38;5;241m.\u001b[39m_timeout_occurred \u001b[38;5;241m=\u001b[39m \u001b[38;5;28;01mTrue\u001b[39;00m\n",
      "\u001b[0;31mKeyboardInterrupt\u001b[0m: "
     ]
    }
   ],
   "source": [
    "df."
   ]
  },
  {
   "cell_type": "code",
   "execution_count": 6,
   "id": "1185990c-c44a-4cf0-ac61-9c6d4cf82d72",
   "metadata": {},
   "outputs": [
    {
     "data": {
      "text/plain": [
       "60013752"
      ]
     },
     "execution_count": 6,
     "metadata": {},
     "output_type": "execute_result"
    }
   ],
   "source": [
    "df.count()"
   ]
  },
  {
   "cell_type": "code",
   "execution_count": 9,
   "id": "22af348c-ec80-436a-b2c2-50997a1aac65",
   "metadata": {},
   "outputs": [
    {
     "name": "stdout",
     "output_type": "stream",
     "text": [
      "+------------------------+------------------------------+--------------------------+-----+\n",
      "|monitoringSiteIdentifier|monitoringSiteIdentifierScheme|parameterWaterBodyCategory|count|\n",
      "+------------------------+------------------------------+--------------------------+-----+\n",
      "|             DK18-310-08|          eionetMonitoringS...|                        GW|  719|\n",
      "|             DK18-380-01|          eionetMonitoringS...|                        GW|  335|\n",
      "|            DK238-971-01|          euMonitoringSiteCode|                        GW|  537|\n",
      "|            DK34-1650-01|          euMonitoringSiteCode|                        GW| 1525|\n",
      "|           DK206-1684-01|          euMonitoringSiteCode|                        GW|  470|\n",
      "|            DK66-1523-11|          eionetMonitoringS...|                        GW|  224|\n",
      "|            DK86-2079-03|          euMonitoringSiteCode|                        GW|  443|\n",
      "|            DK66-1527-05|          eionetMonitoringS...|                        GW|  227|\n",
      "|              EL07100723|          euMonitoringSiteCode|                        GW|  100|\n",
      "|                  EL1214|          eionetMonitoringS...|                        GW|    3|\n",
      "|              EL09130953|          euMonitoringSiteCode|                        GW|   71|\n",
      "|         FR00285X0454-F2|          eionetMonitoringS...|                        GW|    2|\n",
      "|         FR00364X0038-SO|          eionetMonitoringS...|                        GW|    2|\n",
      "|         FR00186X0016-P1|          eionetMonitoringS...|                        GW|    4|\n",
      "|          FR00512X0204-P|          euMonitoringSiteCode|                        GW| 1238|\n",
      "|            DK191-185-01|          eionetMonitoringS...|                        GW| 1086|\n",
      "|            DK238-626-01|          euMonitoringSiteCode|                        GW| 1704|\n",
      "|            DK205-542-01|          euMonitoringSiteCode|                        GW| 1140|\n",
      "|                  EL0101|          eionetMonitoringS...|                        GW|    2|\n",
      "|              EL06040604|          euMonitoringSiteCode|                        GW|  236|\n",
      "+------------------------+------------------------------+--------------------------+-----+\n",
      "only showing top 20 rows\n",
      "\n"
     ]
    }
   ],
   "source": [
    "df.groupBy(\"monitoringSiteIdentifier\",\"monitoringSiteIdentifierScheme\",\"parameterWaterBodyCategory\").count().show()"
   ]
  },
  {
   "cell_type": "code",
   "execution_count": 10,
   "id": "d81a0210-9c79-44e8-8923-bd22b6896038",
   "metadata": {},
   "outputs": [
    {
     "data": {
      "text/plain": [
       "57454"
      ]
     },
     "execution_count": 10,
     "metadata": {},
     "output_type": "execute_result"
    }
   ],
   "source": [
    "df.groupBy(\"monitoringSiteIdentifier\",\"monitoringSiteIdentifierScheme\",\"parameterWaterBodyCategory\").count().count()"
   ]
  },
  {
   "cell_type": "markdown",
   "id": "dd6c2e4d-7579-4cbc-93c0-917d7499747b",
   "metadata": {},
   "source": [
    "# Check which columns can be used for this project"
   ]
  },
  {
   "cell_type": "code",
   "execution_count": 3,
   "id": "4dd6138f-32f5-4f3a-918c-bb0ef3d4030b",
   "metadata": {},
   "outputs": [],
   "source": [
    "s_df = spark.read.format('csv').option(\"header\",\"true\").load('/home/jovyan/dags/input/data/Waterbase_v2021_1_S_WISE6_SpatialObject_DerivedData.csv')"
   ]
  },
  {
   "cell_type": "code",
   "execution_count": 12,
   "id": "dab8206f-378b-4c3a-b3fa-954a948d890e",
   "metadata": {},
   "outputs": [
    {
     "data": {
      "text/plain": [
       "70815"
      ]
     },
     "execution_count": 12,
     "metadata": {},
     "output_type": "execute_result"
    }
   ],
   "source": [
    "s_df.filter().count()"
   ]
  },
  {
   "cell_type": "code",
   "execution_count": 13,
   "id": "12634a2a-6b10-40ab-977b-fff5c02d8565",
   "metadata": {},
   "outputs": [
    {
     "name": "stdout",
     "output_type": "stream",
     "text": [
      "root\n",
      " |-- countryCode: string (nullable = true)\n",
      " |-- thematicIdIdentifier: string (nullable = true)\n",
      " |-- thematicIdIdentifierScheme: string (nullable = true)\n",
      " |-- monitoringSiteIdentifier: string (nullable = true)\n",
      " |-- monitoringSiteIdentifierScheme: string (nullable = true)\n",
      " |-- monitoringSiteName: string (nullable = true)\n",
      " |-- waterBodyIdentifier: string (nullable = true)\n",
      " |-- waterBodyIdentifierScheme: string (nullable = true)\n",
      " |-- waterBodyName: string (nullable = true)\n",
      " |-- specialisedZoneType: string (nullable = true)\n",
      " |-- naturalAWBHMWB: string (nullable = true)\n",
      " |-- reservoir: string (nullable = true)\n",
      " |-- surfaceWaterBodyTypeCode: string (nullable = true)\n",
      " |-- subUnitIdentifier: string (nullable = true)\n",
      " |-- subUnitIdentifierScheme: string (nullable = true)\n",
      " |-- subUnitName: string (nullable = true)\n",
      " |-- rbdIdentifier: string (nullable = true)\n",
      " |-- rbdIdentifierScheme: string (nullable = true)\n",
      " |-- rbdName: string (nullable = true)\n",
      " |-- confidentialityStatus: string (nullable = true)\n",
      " |-- lat: string (nullable = true)\n",
      " |-- lon: string (nullable = true)\n",
      "\n"
     ]
    }
   ],
   "source": [
    "s_df.printSchema()"
   ]
  },
  {
   "cell_type": "code",
   "execution_count": 5,
   "id": "58e434d6-0686-4b95-919e-d18307b7d8e9",
   "metadata": {},
   "outputs": [],
   "source": [
    "lt_df = s_df.filter(\"countryCode=='LT'\")"
   ]
  },
  {
   "cell_type": "code",
   "execution_count": 6,
   "id": "70b4d3c6-5804-4ae0-b6dd-858de44eb28f",
   "metadata": {},
   "outputs": [],
   "source": [
    "se_df = s_df.filter(\"countryCode=='SE'\")"
   ]
  },
  {
   "cell_type": "code",
   "execution_count": 21,
   "id": "b909ae6c-b513-42f6-a88e-f34c4bf774a7",
   "metadata": {},
   "outputs": [
    {
     "data": {
      "text/plain": [
       "760"
      ]
     },
     "execution_count": 21,
     "metadata": {},
     "output_type": "execute_result"
    }
   ],
   "source": [
    "se_df.count()"
   ]
  },
  {
   "cell_type": "code",
   "execution_count": 5,
   "id": "3bdf1e14-a5c0-4030-964d-72829a44af26",
   "metadata": {},
   "outputs": [
    {
     "data": {
      "text/plain": [
       "69184"
      ]
     },
     "execution_count": 5,
     "metadata": {},
     "output_type": "execute_result"
    }
   ],
   "source": [
    "from pyspark.sql.functions import col\n",
    "s_df.filter('monitoringSiteIdentifier is not null').count()"
   ]
  },
  {
   "cell_type": "code",
   "execution_count": 8,
   "id": "ad6827e0-d03c-4796-a756-8dfe4f567ab1",
   "metadata": {},
   "outputs": [],
   "source": [
    "s_df = spark.read.format('csv').option(\"header\",\"true\").load('/home/jovyan/dags/input/data/Waterbase_v2021_1_S_WISE6_SpatialObject_DerivedData.csv')"
   ]
  },
  {
   "cell_type": "code",
   "execution_count": 19,
   "id": "7c4bde20-be11-4288-8f59-e4ea4783e014",
   "metadata": {},
   "outputs": [],
   "source": [
    "from pyspark.sql.functions import to_json, struct, from_json"
   ]
  },
  {
   "cell_type": "code",
   "execution_count": 6,
   "id": "391b3868-4514-47b8-8d4c-c711470977a7",
   "metadata": {},
   "outputs": [],
   "source": [
    "(s_df.select(to_json(struct('*')).alias('value')).limit(10)\n",
    " .write\n",
    "  .format(\"kafka\")\n",
    "  .option(\"kafka.bootstrap.servers\", \"broker:29092\")\n",
    "  .option(\"topic\", \"test_air\")\n",
    "  .save())"
   ]
  },
  {
   "cell_type": "code",
   "execution_count": 15,
   "id": "93a98ed3-52b2-4c56-9471-8afaa37132b8",
   "metadata": {},
   "outputs": [],
   "source": [
    "kafka_read = spark.read.format('kafka').option('subscribe','water_spatial_info').option('kafka.bootstrap.servers','broker:29092').load()"
   ]
  },
  {
   "cell_type": "code",
   "execution_count": 23,
   "id": "b0ffd999-abeb-4a1f-b62f-6bf4af9e642c",
   "metadata": {},
   "outputs": [],
   "source": [
    "kafka_read.selectExpr('cast(value as string)').select(from_json('value',k).alias(\"d\")).select(\"d.*\") \\\n",
    ".write.format('delta').save('/home/jovyan/dags/deployment/output/ra_test/')"
   ]
  },
  {
   "cell_type": "code",
   "execution_count": 18,
   "id": "08208f92-64aa-46a3-a426-34b98581f367",
   "metadata": {},
   "outputs": [],
   "source": [
    "k = s_df.schema"
   ]
  },
  {
   "cell_type": "code",
   "execution_count": 35,
   "id": "51c5d815-adc8-4ee9-ad0b-cda2610d024c",
   "metadata": {},
   "outputs": [],
   "source": [
    "from pyspark.sql.dataframe import StructType"
   ]
  },
  {
   "cell_type": "code",
   "execution_count": 22,
   "id": "77e58628-b8e0-49cb-a67d-3479e5527784",
   "metadata": {},
   "outputs": [
    {
     "data": {
      "text/plain": [
       "StructType(List(StructField(countryCode,StringType,true),StructField(thematicIdIdentifier,StringType,true),StructField(thematicIdIdentifierScheme,StringType,true),StructField(monitoringSiteIdentifier,StringType,true),StructField(monitoringSiteIdentifierScheme,StringType,true),StructField(monitoringSiteName,StringType,true),StructField(waterBodyIdentifier,StringType,true),StructField(waterBodyIdentifierScheme,StringType,true),StructField(waterBodyName,StringType,true),StructField(specialisedZoneType,StringType,true),StructField(naturalAWBHMWB,StringType,true),StructField(reservoir,StringType,true),StructField(surfaceWaterBodyTypeCode,StringType,true),StructField(subUnitIdentifier,StringType,true),StructField(subUnitIdentifierScheme,StringType,true),StructField(subUnitName,StringType,true),StructField(rbdIdentifier,StringType,true),StructField(rbdIdentifierScheme,StringType,true),StructField(rbdName,StringType,true),StructField(confidentialityStatus,StringType,true),StructField(lat,StringType,true),StructField(lon,StringType,true)))"
      ]
     },
     "execution_count": 22,
     "metadata": {},
     "output_type": "execute_result"
    }
   ],
   "source": [
    "StructType.fromJson(k)"
   ]
  },
  {
   "cell_type": "code",
   "execution_count": 23,
   "id": "2c0b0582-f800-40ec-8915-d5680a902a36",
   "metadata": {},
   "outputs": [
    {
     "data": {
      "text/plain": [
       "{'type': 'struct',\n",
       " 'fields': [{'name': 'countryCode',\n",
       "   'type': 'string',\n",
       "   'nullable': True,\n",
       "   'metadata': {}},\n",
       "  {'name': 'thematicIdIdentifier',\n",
       "   'type': 'string',\n",
       "   'nullable': True,\n",
       "   'metadata': {}},\n",
       "  {'name': 'thematicIdIdentifierScheme',\n",
       "   'type': 'string',\n",
       "   'nullable': True,\n",
       "   'metadata': {}},\n",
       "  {'name': 'monitoringSiteIdentifier',\n",
       "   'type': 'string',\n",
       "   'nullable': True,\n",
       "   'metadata': {}},\n",
       "  {'name': 'monitoringSiteIdentifierScheme',\n",
       "   'type': 'string',\n",
       "   'nullable': True,\n",
       "   'metadata': {}},\n",
       "  {'name': 'monitoringSiteName',\n",
       "   'type': 'string',\n",
       "   'nullable': True,\n",
       "   'metadata': {}},\n",
       "  {'name': 'waterBodyIdentifier',\n",
       "   'type': 'string',\n",
       "   'nullable': True,\n",
       "   'metadata': {}},\n",
       "  {'name': 'waterBodyIdentifierScheme',\n",
       "   'type': 'string',\n",
       "   'nullable': True,\n",
       "   'metadata': {}},\n",
       "  {'name': 'waterBodyName',\n",
       "   'type': 'string',\n",
       "   'nullable': True,\n",
       "   'metadata': {}},\n",
       "  {'name': 'specialisedZoneType',\n",
       "   'type': 'string',\n",
       "   'nullable': True,\n",
       "   'metadata': {}},\n",
       "  {'name': 'naturalAWBHMWB',\n",
       "   'type': 'string',\n",
       "   'nullable': True,\n",
       "   'metadata': {}},\n",
       "  {'name': 'reservoir', 'type': 'string', 'nullable': True, 'metadata': {}},\n",
       "  {'name': 'surfaceWaterBodyTypeCode',\n",
       "   'type': 'string',\n",
       "   'nullable': True,\n",
       "   'metadata': {}},\n",
       "  {'name': 'subUnitIdentifier',\n",
       "   'type': 'string',\n",
       "   'nullable': True,\n",
       "   'metadata': {}},\n",
       "  {'name': 'subUnitIdentifierScheme',\n",
       "   'type': 'string',\n",
       "   'nullable': True,\n",
       "   'metadata': {}},\n",
       "  {'name': 'subUnitName', 'type': 'string', 'nullable': True, 'metadata': {}},\n",
       "  {'name': 'rbdIdentifier',\n",
       "   'type': 'string',\n",
       "   'nullable': True,\n",
       "   'metadata': {}},\n",
       "  {'name': 'rbdIdentifierScheme',\n",
       "   'type': 'string',\n",
       "   'nullable': True,\n",
       "   'metadata': {}},\n",
       "  {'name': 'rbdName', 'type': 'string', 'nullable': True, 'metadata': {}},\n",
       "  {'name': 'confidentialityStatus',\n",
       "   'type': 'string',\n",
       "   'nullable': True,\n",
       "   'metadata': {}},\n",
       "  {'name': 'lat', 'type': 'string', 'nullable': True, 'metadata': {}},\n",
       "  {'name': 'lon', 'type': 'string', 'nullable': True, 'metadata': {}}]}"
      ]
     },
     "execution_count": 23,
     "metadata": {},
     "output_type": "execute_result"
    }
   ],
   "source": [
    "k"
   ]
  },
  {
   "cell_type": "code",
   "execution_count": 25,
   "id": "5d2277c4-4aa6-4b03-8e18-1487c6dbe554",
   "metadata": {},
   "outputs": [],
   "source": [
    "import json"
   ]
  },
  {
   "cell_type": "code",
   "execution_count": 37,
   "id": "6ef1e1a5-f8bb-4bce-b61c-5534e7548089",
   "metadata": {},
   "outputs": [],
   "source": [
    "with open(\"/home/jovyan/dags/config/schemas/spatial_obj.json\") as sc:\n",
    "    j = json.load(sc)\n",
    "    k = StructType.fromJson(j)"
   ]
  },
  {
   "cell_type": "code",
   "execution_count": 38,
   "id": "49a86f11-757b-4f35-9729-e0d77d3e4f97",
   "metadata": {},
   "outputs": [
    {
     "data": {
      "text/plain": [
       "StructType(List(StructField(countryCode,StringType,true),StructField(thematicIdIdentifier,StringType,true),StructField(thematicIdIdentifierScheme,StringType,true),StructField(monitoringSiteIdentifier,StringType,true),StructField(monitoringSiteIdentifierScheme,StringType,true),StructField(monitoringSiteName,StringType,true),StructField(waterBodyIdentifier,StringType,true),StructField(waterBodyIdentifierScheme,StringType,true),StructField(waterBodyName,StringType,true),StructField(specialisedZoneType,StringType,true),StructField(naturalAWBHMWB,StringType,true),StructField(reservoir,StringType,true),StructField(surfaceWaterBodyTypeCode,StringType,true),StructField(subUnitIdentifier,StringType,true),StructField(subUnitIdentifierScheme,StringType,true),StructField(subUnitName,StringType,true),StructField(rbdIdentifier,StringType,true),StructField(rbdIdentifierScheme,StringType,true),StructField(rbdName,StringType,true),StructField(confidentialityStatus,StringType,true),StructField(lat,StringType,true),StructField(lon,StringType,true)))"
      ]
     },
     "execution_count": 38,
     "metadata": {},
     "output_type": "execute_result"
    }
   ],
   "source": [
    "s"
   ]
  },
  {
   "cell_type": "code",
   "execution_count": 10,
   "id": "2acc50d0-c8cf-4a3f-98e7-156999fcfd0a",
   "metadata": {},
   "outputs": [],
   "source": [
    "f_df = s_df.filter(\"monitoringSiteIdentifier is not null\").filter(\"countryCode=='LT' or countryCode=='SE'\")"
   ]
  },
  {
   "cell_type": "code",
   "execution_count": 25,
   "id": "594deda7-2901-4b92-8e28-8ffdca43d04b",
   "metadata": {},
   "outputs": [
    {
     "name": "stdout",
     "output_type": "stream",
     "text": [
      "g\n",
      "a\n"
     ]
    }
   ],
   "source": [
    "g = {'g':'t','a':'l'}\n",
    "\n",
    "for i in g:\n",
    "    print(i)"
   ]
  },
  {
   "cell_type": "code",
   "execution_count": 14,
   "id": "eb3bffe1-4556-4b30-be18-c2ed7468dfdc",
   "metadata": {},
   "outputs": [
    {
     "data": {
      "text/plain": [
       "941248"
      ]
     },
     "execution_count": 14,
     "metadata": {},
     "output_type": "execute_result"
    }
   ],
   "source": [
    "df.join(f_df,'monitoringSiteIdentifier').count()"
   ]
  },
  {
   "cell_type": "code",
   "execution_count": null,
   "id": "5c5e38fe-e883-43c6-845e-8467722e01db",
   "metadata": {},
   "outputs": [],
   "source": []
  }
 ],
 "metadata": {
  "kernelspec": {
   "display_name": "Python 3 (ipykernel)",
   "language": "python",
   "name": "python3"
  },
  "language_info": {
   "codemirror_mode": {
    "name": "ipython",
    "version": 3
   },
   "file_extension": ".py",
   "mimetype": "text/x-python",
   "name": "python",
   "nbconvert_exporter": "python",
   "pygments_lexer": "ipython3",
   "version": "3.10.5"
  }
 },
 "nbformat": 4,
 "nbformat_minor": 5
}
