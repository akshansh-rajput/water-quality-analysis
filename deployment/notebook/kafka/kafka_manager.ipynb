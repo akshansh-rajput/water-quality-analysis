{
 "cells": [
  {
   "cell_type": "code",
   "execution_count": 50,
   "id": "ae6af063-f612-40b1-8de9-4ea1db28d51f",
   "metadata": {},
   "outputs": [],
   "source": [
    "from confluent_kafka.admin import AdminClient, NewTopic\n",
    "from water_config.kafka_config import (KAFKA_TOPIC_NAME, KAFKA_BROKER_SERVER)"
   ]
  },
  {
   "cell_type": "code",
   "execution_count": 45,
   "id": "130f9aad-026e-4080-b371-b30e9d608a35",
   "metadata": {},
   "outputs": [],
   "source": [
    "def create_topic():\n",
    "    admin = AdminClient({'bootstrap.servers': KAFKA_BROKER_SERVER})\n",
    "    topic = NewTopic(KAFKA_TOPIC_NAME, num_partitions=2, replication_factor=1)\n",
    "    new_topics = [topic]\n",
    "    result = admin.create_topics(new_topics)\n",
    "    for topic, f in result.items():\n",
    "        try:\n",
    "            f.result()\n",
    "            print(\"Topic {} created\".format(topic))\n",
    "        except Exception as e:\n",
    "            print(\"Failed to create topic {}: {}\".format(topic, e))"
   ]
  },
  {
   "cell_type": "code",
   "execution_count": 46,
   "id": "22a6e63d-e4d8-42c4-8ce2-e5624589307d",
   "metadata": {},
   "outputs": [],
   "source": [
    "def delete_topic():\n",
    "    \n",
    "    admin = AdminClient({'bootstrap.servers': KAFKA_BROKER_SERVER})\n",
    "    result = admin.delete_topics([KAFKA_TOPIC_NAME])\n",
    "    for topic, f in result.items():\n",
    "        try:\n",
    "            f.result() \n",
    "            print(\"Topic {} deleted\".format(topic))\n",
    "        except Exception as e:\n",
    "            print(\"Failed to delete topic {}: {}\".format(topic, e))"
   ]
  },
  {
   "cell_type": "code",
   "execution_count": 48,
   "id": "34a32d2c-37d5-4753-a48c-9fb93a42c002",
   "metadata": {},
   "outputs": [
    {
     "name": "stdout",
     "output_type": "stream",
     "text": [
      "Topic test_topic deleted\n"
     ]
    }
   ],
   "source": []
  },
  {
   "cell_type": "code",
   "execution_count": null,
   "id": "51dd7f5b-edb1-4091-b4df-b2b5fb2c730e",
   "metadata": {},
   "outputs": [],
   "source": []
  }
 ],
 "metadata": {
  "kernelspec": {
   "display_name": "Python 3 (ipykernel)",
   "language": "python",
   "name": "python3"
  },
  "language_info": {
   "codemirror_mode": {
    "name": "ipython",
    "version": 3
   },
   "file_extension": ".py",
   "mimetype": "text/x-python",
   "name": "python",
   "nbconvert_exporter": "python",
   "pygments_lexer": "ipython3",
   "version": "3.10.5"
  }
 },
 "nbformat": 4,
 "nbformat_minor": 5
}
